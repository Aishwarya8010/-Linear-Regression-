{
 "cells": [
  {
   "cell_type": "code",
   "execution_count": 27,
   "id": "b5dd38b0",
   "metadata": {},
   "outputs": [],
   "source": [
    "#### Importing of Library\n",
    "import pandas as pd\n",
    "from sklearn.model_selection import train_test_split"
   ]
  },
  {
   "cell_type": "code",
   "execution_count": 28,
   "id": "521e58e4",
   "metadata": {},
   "outputs": [],
   "source": [
    "data = pd.read_csv('salary.yr.csv')"
   ]
  },
  {
   "cell_type": "code",
   "execution_count": 29,
   "id": "8c698c2f",
   "metadata": {},
   "outputs": [
    {
     "name": "stdout",
     "output_type": "stream",
     "text": [
      "   Years of Experiences  Salary\n",
      "0                     1   39343\n",
      "1                     3   46205\n",
      "2                     5   37731\n",
      "3                     2   43525\n",
      "4                     2   38976\n"
     ]
    }
   ],
   "source": [
    "print(data.head())"
   ]
  },
  {
   "cell_type": "code",
   "execution_count": 30,
   "id": "a3431638",
   "metadata": {},
   "outputs": [
    {
     "name": "stdout",
     "output_type": "stream",
     "text": [
      "Index(['Years of Experiences', 'Salary'], dtype='object')\n",
      "Years of Experiences    int64\n",
      "Salary                  int64\n",
      "dtype: object\n"
     ]
    }
   ],
   "source": [
    "print(data.columns)\n",
    "print(data.dtypes)"
   ]
  },
  {
   "cell_type": "code",
   "execution_count": 31,
   "id": "ff26195e",
   "metadata": {},
   "outputs": [
    {
     "data": {
      "text/plain": [
       "(21, 2)"
      ]
     },
     "execution_count": 31,
     "metadata": {},
     "output_type": "execute_result"
    }
   ],
   "source": [
    "data.shape"
   ]
  },
  {
   "cell_type": "code",
   "execution_count": 32,
   "id": "34002d1b",
   "metadata": {},
   "outputs": [],
   "source": [
    "X = data.iloc[:,0]\n",
    "X = X.values.reshape(-1,1)"
   ]
  },
  {
   "cell_type": "code",
   "execution_count": 33,
   "id": "eb42577b",
   "metadata": {},
   "outputs": [],
   "source": [
    "y = data.iloc[:,1]\n",
    "y = y.values.reshape(-1,1)"
   ]
  },
  {
   "cell_type": "code",
   "execution_count": 34,
   "id": "1ca612aa",
   "metadata": {},
   "outputs": [],
   "source": [
    "X_train,X_test,y_train,y_test = train_test_split(X,y,test_size=0.10,random_state=1234)"
   ]
  },
  {
   "cell_type": "code",
   "execution_count": 35,
   "id": "70182525",
   "metadata": {
    "collapsed": true
   },
   "outputs": [
    {
     "data": {
      "text/plain": [
       "array([[1],\n",
       "       [5],\n",
       "       [9],\n",
       "       [2],\n",
       "       [1],\n",
       "       [2],\n",
       "       [9],\n",
       "       [3],\n",
       "       [4],\n",
       "       [9],\n",
       "       [7],\n",
       "       [2],\n",
       "       [3],\n",
       "       [8],\n",
       "       [4],\n",
       "       [3],\n",
       "       [6],\n",
       "       [9]], dtype=int64)"
      ]
     },
     "execution_count": 35,
     "metadata": {},
     "output_type": "execute_result"
    }
   ],
   "source": [
    "X_train"
   ]
  },
  {
   "cell_type": "code",
   "execution_count": 36,
   "id": "130be3eb",
   "metadata": {
    "collapsed": true
   },
   "outputs": [
    {
     "data": {
      "text/plain": [
       "array([[  78432],\n",
       "       [  23456],\n",
       "       [ 556642],\n",
       "       [  38976],\n",
       "       [  39343],\n",
       "       [  60150],\n",
       "       [ 341389],\n",
       "       [  55442],\n",
       "       [  61111],\n",
       "       [1156975],\n",
       "       [  64445],\n",
       "       [  54445],\n",
       "       [  46205],\n",
       "       [ 188833],\n",
       "       [  45673],\n",
       "       [  60150],\n",
       "       [  56837],\n",
       "       [  97654]], dtype=int64)"
      ]
     },
     "execution_count": 36,
     "metadata": {},
     "output_type": "execute_result"
    }
   ],
   "source": [
    "y_train"
   ]
  },
  {
   "cell_type": "code",
   "execution_count": 39,
   "id": "627bbec5",
   "metadata": {},
   "outputs": [],
   "source": [
    "from sklearn.linear_model import LinearRegression, Ridge"
   ]
  },
  {
   "cell_type": "code",
   "execution_count": 54,
   "id": "39530367",
   "metadata": {},
   "outputs": [
    {
     "data": {
      "text/plain": [
       "-25.285614766615698"
      ]
     },
     "execution_count": 54,
     "metadata": {},
     "output_type": "execute_result"
    }
   ],
   "source": [
    "model = LinearRegression()\n",
    "model.fit(X_train,y_train)\n",
    "pred = model.predict(X_test)\n",
    "from sklearn.metrics import mean_squared_error,r2_score\n",
    "mean_squared_error(y_test,pred)\n",
    "r2_score(y_test,pred)"
   ]
  },
  {
   "cell_type": "code",
   "execution_count": 65,
   "id": "b8eb32fb",
   "metadata": {},
   "outputs": [
    {
     "data": {
      "text/plain": [
       "-16.14146695675889"
      ]
     },
     "execution_count": 65,
     "metadata": {},
     "output_type": "execute_result"
    }
   ],
   "source": [
    "model1 = Ridge(alpha= 50.0)\n",
    "model1.fit(X_train,y_train)\n",
    "pred1 = model1.predict(X_test)\n",
    "from sklearn.metrics import mean_squared_error,r2_score\n",
    "mean_squared_error(y_test,pred1)\n",
    "r2_score(y_test,pred1)"
   ]
  },
  {
   "cell_type": "code",
   "execution_count": null,
   "id": "a051b6bd",
   "metadata": {},
   "outputs": [],
   "source": []
  }
 ],
 "metadata": {
  "kernelspec": {
   "display_name": "Python 3 (ipykernel)",
   "language": "python",
   "name": "python3"
  },
  "language_info": {
   "codemirror_mode": {
    "name": "ipython",
    "version": 3
   },
   "file_extension": ".py",
   "mimetype": "text/x-python",
   "name": "python",
   "nbconvert_exporter": "python",
   "pygments_lexer": "ipython3",
   "version": "3.10.9"
  }
 },
 "nbformat": 4,
 "nbformat_minor": 5
}
